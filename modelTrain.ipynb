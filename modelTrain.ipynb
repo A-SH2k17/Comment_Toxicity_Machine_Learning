{
 "cells": [
  {
   "cell_type": "markdown",
   "id": "36a801d6-02bc-4881-856f-10c5f6ecaf07",
   "metadata": {},
   "source": [
    "# Model Training and Hyperparameter Tuning "
   ]
  },
  {
   "cell_type": "code",
   "execution_count": 1,
   "id": "113cc915-23f0-4b0e-b11b-2affa01a16d2",
   "metadata": {},
   "outputs": [],
   "source": [
    "import numpy as np\n",
    "from sklearn.naive_bayes import MultinomialNB\n",
    "from sklearn.svm import LinearSVC\n",
    "from sklearn.linear_model import LogisticRegression\n",
    "import pandas as pd\n",
    "from sklearn.model_selection import RandomizedSearchCV\n",
    "from sklearn.model_selection import GridSearchCV\n",
    "from sklearn.model_selection import StratifiedKFold\n",
    "from sklearn.model_selection import train_test_split"
   ]
  },
  {
   "cell_type": "code",
   "execution_count": 2,
   "id": "59e99449-1ad3-4fd8-ad7a-07d8fdee900b",
   "metadata": {},
   "outputs": [],
   "source": [
    "data = pd.read_csv(\"Toxic-Comment-Classification-Challenge-master/data/train.csv\")\n",
    "labels = data.iloc[:,2:]"
   ]
  },
  {
   "cell_type": "code",
   "execution_count": 10,
   "id": "50b503e0-db4f-4257-9cb8-a788f5da8138",
   "metadata": {},
   "outputs": [],
   "source": [
    "\"\"\"\n",
    "this cell splits the data into training test and validation\n",
    "\"\"\"\n",
    "\n",
    "import pickle\n",
    "with open(\"project_variables/Xtrain.pickle\",'rb') as file:\n",
    "    comments = pickle.load(file)\n",
    "Xtrain,XTest,Ytrain,YTest = train_test_split(comments,labels,test_size=0.2,random_state=42)\n",
    "Xtest,Xval,Ytest,Yval = train_test_split(XTest,YTest,test_size=0.5,random_state=42)"
   ]
  },
  {
   "cell_type": "code",
   "execution_count": 11,
   "id": "b12ba500-ce9a-4c7a-9c5b-280dcd1274a7",
   "metadata": {},
   "outputs": [
    {
     "data": {
      "text/plain": [
       "((127656, 19109), (127656, 6))"
      ]
     },
     "execution_count": 11,
     "metadata": {},
     "output_type": "execute_result"
    }
   ],
   "source": [
    "Xtrain.shape,Ytrain.shape"
   ]
  },
  {
   "cell_type": "code",
   "execution_count": 12,
   "id": "d11bbabb-cece-4aee-ab64-a35c3cb0b290",
   "metadata": {},
   "outputs": [
    {
     "data": {
      "text/plain": [
       "((15957, 19109), (15957, 6))"
      ]
     },
     "execution_count": 12,
     "metadata": {},
     "output_type": "execute_result"
    }
   ],
   "source": [
    "Xtest.shape,Ytest.shape"
   ]
  },
  {
   "cell_type": "code",
   "execution_count": 13,
   "id": "e9625668-a24a-496b-ad7f-6f7401f3fd06",
   "metadata": {},
   "outputs": [
    {
     "data": {
      "text/plain": [
       "((15958, 19109), (15958, 6))"
      ]
     },
     "execution_count": 13,
     "metadata": {},
     "output_type": "execute_result"
    }
   ],
   "source": [
    "Xval.shape,Yval.shape"
   ]
  },
  {
   "cell_type": "code",
   "execution_count": 14,
   "id": "8c1d6059-352c-4006-97d7-48248f992291",
   "metadata": {},
   "outputs": [],
   "source": [
    "NBModel = MultinomialNB()\n",
    "SVCModel = LinearSVC()\n",
    "LRModel = LogisticRegression()"
   ]
  },
  {
   "cell_type": "code",
   "execution_count": 15,
   "id": "0cd829bf-be48-4c8f-93f2-1c61109c969f",
   "metadata": {},
   "outputs": [
    {
     "data": {
      "text/plain": [
       "['toxic', 'severe_toxic', 'obscene', 'threat', 'insult', 'identity_hate']"
      ]
     },
     "execution_count": 15,
     "metadata": {},
     "output_type": "execute_result"
    }
   ],
   "source": [
    "cols = list(labels.columns)\n",
    "cols"
   ]
  },
  {
   "cell_type": "code",
   "execution_count": 19,
   "id": "505cb55b-3bd0-4e30-8728-3f96de2940a8",
   "metadata": {},
   "outputs": [],
   "source": [
    "def modelTraining(model):\n",
    "        for col in cols:\n",
    "            model.fit(Xtrain,Ytrain[col])\n",
    "            predictions = model.predict(Xtrain)\n",
    "            print(f\"\"\"\n",
    "            In {col}\n",
    "            actual = {data[col][1900]}\n",
    "            predicted = {predictions[1900]}\n",
    "            \"\"\")"
   ]
  },
  {
   "cell_type": "code",
   "execution_count": 17,
   "id": "2398f3dc-8783-4523-ba7e-b3472846d1e9",
   "metadata": {},
   "outputs": [],
   "source": [
    "models = [NBModel,SVCModel,LRModel]"
   ]
  },
  {
   "cell_type": "code",
   "execution_count": 20,
   "id": "c8318a60-8799-44f9-855b-8d7fe4408064",
   "metadata": {},
   "outputs": [
    {
     "name": "stdout",
     "output_type": "stream",
     "text": [
      "in MultinomialNB\n",
      "\n",
      "            In toxic\n",
      "            actual = 1\n",
      "            predicted = 0\n",
      "            \n",
      "\n",
      "            In severe_toxic\n",
      "            actual = 0\n",
      "            predicted = 0\n",
      "            \n",
      "\n",
      "            In obscene\n",
      "            actual = 1\n",
      "            predicted = 0\n",
      "            \n",
      "\n",
      "            In threat\n",
      "            actual = 0\n",
      "            predicted = 0\n",
      "            \n",
      "\n",
      "            In insult\n",
      "            actual = 1\n",
      "            predicted = 0\n",
      "            \n",
      "\n",
      "            In identity_hate\n",
      "            actual = 0\n",
      "            predicted = 0\n",
      "            \n",
      "in LinearSVC\n"
     ]
    },
    {
     "name": "stderr",
     "output_type": "stream",
     "text": [
      "/Users/ali_shar/opt/anaconda3/envs/AIprojectEnv/lib/python3.10/site-packages/sklearn/svm/_classes.py:31: FutureWarning: The default value of `dual` will change from `True` to `'auto'` in 1.5. Set the value of `dual` explicitly to suppress the warning.\n",
      "  warnings.warn(\n"
     ]
    },
    {
     "name": "stdout",
     "output_type": "stream",
     "text": [
      "\n",
      "            In toxic\n",
      "            actual = 1\n",
      "            predicted = 0\n",
      "            \n"
     ]
    },
    {
     "name": "stderr",
     "output_type": "stream",
     "text": [
      "/Users/ali_shar/opt/anaconda3/envs/AIprojectEnv/lib/python3.10/site-packages/sklearn/svm/_classes.py:31: FutureWarning: The default value of `dual` will change from `True` to `'auto'` in 1.5. Set the value of `dual` explicitly to suppress the warning.\n",
      "  warnings.warn(\n"
     ]
    },
    {
     "name": "stdout",
     "output_type": "stream",
     "text": [
      "\n",
      "            In severe_toxic\n",
      "            actual = 0\n",
      "            predicted = 0\n",
      "            \n"
     ]
    },
    {
     "name": "stderr",
     "output_type": "stream",
     "text": [
      "/Users/ali_shar/opt/anaconda3/envs/AIprojectEnv/lib/python3.10/site-packages/sklearn/svm/_classes.py:31: FutureWarning: The default value of `dual` will change from `True` to `'auto'` in 1.5. Set the value of `dual` explicitly to suppress the warning.\n",
      "  warnings.warn(\n"
     ]
    },
    {
     "name": "stdout",
     "output_type": "stream",
     "text": [
      "\n",
      "            In obscene\n",
      "            actual = 1\n",
      "            predicted = 0\n",
      "            \n"
     ]
    },
    {
     "name": "stderr",
     "output_type": "stream",
     "text": [
      "/Users/ali_shar/opt/anaconda3/envs/AIprojectEnv/lib/python3.10/site-packages/sklearn/svm/_classes.py:31: FutureWarning: The default value of `dual` will change from `True` to `'auto'` in 1.5. Set the value of `dual` explicitly to suppress the warning.\n",
      "  warnings.warn(\n"
     ]
    },
    {
     "name": "stdout",
     "output_type": "stream",
     "text": [
      "\n",
      "            In threat\n",
      "            actual = 0\n",
      "            predicted = 0\n",
      "            \n"
     ]
    },
    {
     "name": "stderr",
     "output_type": "stream",
     "text": [
      "/Users/ali_shar/opt/anaconda3/envs/AIprojectEnv/lib/python3.10/site-packages/sklearn/svm/_classes.py:31: FutureWarning: The default value of `dual` will change from `True` to `'auto'` in 1.5. Set the value of `dual` explicitly to suppress the warning.\n",
      "  warnings.warn(\n"
     ]
    },
    {
     "name": "stdout",
     "output_type": "stream",
     "text": [
      "\n",
      "            In insult\n",
      "            actual = 1\n",
      "            predicted = 0\n",
      "            \n"
     ]
    },
    {
     "name": "stderr",
     "output_type": "stream",
     "text": [
      "/Users/ali_shar/opt/anaconda3/envs/AIprojectEnv/lib/python3.10/site-packages/sklearn/svm/_classes.py:31: FutureWarning: The default value of `dual` will change from `True` to `'auto'` in 1.5. Set the value of `dual` explicitly to suppress the warning.\n",
      "  warnings.warn(\n"
     ]
    },
    {
     "name": "stdout",
     "output_type": "stream",
     "text": [
      "\n",
      "            In identity_hate\n",
      "            actual = 0\n",
      "            predicted = 0\n",
      "            \n",
      "in LogisticRegression\n",
      "\n",
      "            In toxic\n",
      "            actual = 1\n",
      "            predicted = 0\n",
      "            \n",
      "\n",
      "            In severe_toxic\n",
      "            actual = 0\n",
      "            predicted = 0\n",
      "            \n",
      "\n",
      "            In obscene\n",
      "            actual = 1\n",
      "            predicted = 0\n",
      "            \n",
      "\n",
      "            In threat\n",
      "            actual = 0\n",
      "            predicted = 0\n",
      "            \n",
      "\n",
      "            In insult\n",
      "            actual = 1\n",
      "            predicted = 0\n",
      "            \n",
      "\n",
      "            In identity_hate\n",
      "            actual = 0\n",
      "            predicted = 0\n",
      "            \n"
     ]
    }
   ],
   "source": [
    "np.random.seed(42)\n",
    "for model in models :\n",
    "    print(f\"in {model.__class__.__name__.split('.')[-1]}\")\n",
    "    modelTraining(model)"
   ]
  },
  {
   "cell_type": "markdown",
   "id": "5455de8a-cbe3-430d-991c-86e61539e906",
   "metadata": {},
   "source": [
    "## Logistic Regression Hyperparamter Tuning"
   ]
  },
  {
   "cell_type": "code",
   "execution_count": 28,
   "id": "5ec0d58f-2fab-4545-ae42-b214b0eebc5d",
   "metadata": {},
   "outputs": [
    {
     "name": "stdout",
     "output_type": "stream",
     "text": [
      "in toxic\n",
      "Best paramters : {'class_weight': 'balanced', 'solver': 'liblinear'}\n",
      "in severe_toxic\n",
      "Best paramters : {'class_weight': 'balanced', 'solver': 'newton-cg'}\n",
      "in obscene\n",
      "Best paramters : {'class_weight': 'balanced', 'solver': 'liblinear'}\n",
      "in threat\n",
      "Best paramters : {'class_weight': 'balanced', 'solver': 'newton-cg'}\n",
      "in insult\n",
      "Best paramters : {'class_weight': 'balanced', 'solver': 'liblinear'}\n",
      "in identity_hate\n",
      "Best paramters : {'class_weight': 'balanced', 'solver': 'newton-cg'}\n"
     ]
    }
   ],
   "source": [
    "np.random.seed(42)\n",
    "parameter_grid = {'solver': ['newton-cg', 'lbfgs', 'liblinear'],\n",
    "                  'class_weight': [None, 'balanced']}\n",
    "cross_validation = StratifiedKFold(n_splits=5)\n",
    "lrGrid = GridSearchCV(estimator=LRModel,\n",
    "                      param_grid = parameter_grid,\n",
    "                     cv= cross_validation,\n",
    "                     scoring=\"f1\")\n",
    "for col in cols:\n",
    "    print(f\"in {col}\")\n",
    "    lrGrid.fit(Xtrain,Ytrain[col])\n",
    "    print(f\"Best paramters : {lrGrid.best_params_}\")"
   ]
  },
  {
   "cell_type": "markdown",
   "id": "f46cd467-89d8-40ed-b523-e9659aaec705",
   "metadata": {},
   "source": [
    "## Linear SVC Hyperparameter Tuning"
   ]
  },
  {
   "cell_type": "code",
   "execution_count": 31,
   "id": "401177a2-09aa-4924-b6fc-1cd3ea669420",
   "metadata": {},
   "outputs": [
    {
     "name": "stdout",
     "output_type": "stream",
     "text": [
      "in toxic\n",
      "Fitting 5 folds for each of 10 candidates, totalling 50 fits\n",
      "Best paramters : {'penalty': 'l2', 'loss': 'hinge', 'C': 1}\n",
      "in severe_toxic\n",
      "Fitting 5 folds for each of 10 candidates, totalling 50 fits\n",
      "Best paramters : {'penalty': 'l2', 'loss': 'squared_hinge', 'C': 1}\n",
      "in obscene\n",
      "Fitting 5 folds for each of 10 candidates, totalling 50 fits\n",
      "Best paramters : {'penalty': 'l2', 'loss': 'squared_hinge', 'C': 1}\n",
      "in threat\n",
      "Fitting 5 folds for each of 10 candidates, totalling 50 fits\n",
      "Best paramters : {'penalty': 'l2', 'loss': 'squared_hinge', 'C': 1}\n",
      "in insult\n",
      "Fitting 5 folds for each of 10 candidates, totalling 50 fits\n",
      "Best paramters : {'penalty': 'l2', 'loss': 'hinge', 'C': 1}\n",
      "in identity_hate\n",
      "Fitting 5 folds for each of 10 candidates, totalling 50 fits\n",
      "Best paramters : {'penalty': 'l2', 'loss': 'hinge', 'C': 1}\n"
     ]
    }
   ],
   "source": [
    "np.random.seed(42)\n",
    "import warnings\n",
    "warnings.filterwarnings('ignore')\n",
    "\n",
    "parameter_grid_svc = {\n",
    "    'C': [1,10,20],\n",
    "    'penalty': ['l1','l2'],\n",
    "    'loss':['hinge','squared_hinge']\n",
    "}\n",
    "svcRand = RandomizedSearchCV(\n",
    "                            estimator = SVCModel,\n",
    "                            param_distributions=parameter_grid_svc,\n",
    "                            cv=cross_validation,\n",
    "                            scoring=\"accuracy\",\n",
    "                            verbose=True\n",
    ")\n",
    "for col in cols:\n",
    "    print(f\"in {col}\")\n",
    "    svcRand.fit(Xtrain,Ytrain[col])\n",
    "    print(f\"Best paramters : {svcRand.best_params_}\")"
   ]
  },
  {
   "cell_type": "code",
   "execution_count": 32,
   "id": "77c0ca3c-82e3-48a5-ab7a-cc1635664070",
   "metadata": {},
   "outputs": [],
   "source": [
    "import pickle\n",
    "with open(\"project_variables/models/MultinomialNB.pickle\",'wb') as file:\n",
    "    pickle.dump(NBModel,file)\n",
    "with open(\"project_variables/models/LogisticRegression.pickle\",'wb') as file:\n",
    "    pickle.dump(LRModel,file)\n",
    "with open(\"project_variables/models/LinearSVC.pickle\",'wb') as file:\n",
    "    pickle.dump(SVCModel,file)\n",
    "with open(\"project_variables/models/RandomLinearSVC.pickle\",'wb') as file:\n",
    "    pickle.dump(lrGrid,file)\n",
    "with open(\"project_variables/models/GridLogistic.pickle\",'wb') as file:\n",
    "    pickle.dump(svcRand,file)"
   ]
  }
 ],
 "metadata": {
  "kernelspec": {
   "display_name": "Python 3 (ipykernel)",
   "language": "python",
   "name": "python3"
  },
  "language_info": {
   "codemirror_mode": {
    "name": "ipython",
    "version": 3
   },
   "file_extension": ".py",
   "mimetype": "text/x-python",
   "name": "python",
   "nbconvert_exporter": "python",
   "pygments_lexer": "ipython3",
   "version": "3.9.13"
  }
 },
 "nbformat": 4,
 "nbformat_minor": 5
}
