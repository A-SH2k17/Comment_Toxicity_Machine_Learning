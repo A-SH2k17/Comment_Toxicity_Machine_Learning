{
 "cells": [
  {
   "cell_type": "code",
   "execution_count": 1,
   "metadata": {
    "colab": {
     "base_uri": "https://localhost:8080/"
    },
    "id": "hYQx2omBZRCW",
    "outputId": "c77de853-2268-4c24-b269-ee554ba54a16"
   },
   "outputs": [
    {
     "name": "stdout",
     "output_type": "stream",
     "text": [
      "Found GPU at: /device:GPU:0\n"
     ]
    }
   ],
   "source": [
    "import tensorflow as tf\n",
    "device_name = tf.test.gpu_device_name()\n",
    "if device_name != '/device:GPU:0':\n",
    "    raise SystemError('GPU device not found')\n",
    "print('Found GPU at: {}'.format(device_name))"
   ]
  },
  {
   "cell_type": "code",
   "execution_count": 2,
   "metadata": {
    "id": "-m7f8Di_bsG0"
   },
   "outputs": [],
   "source": [
    "import numpy as np\n",
    "from sklearn.tree import DecisionTreeClassifier\n",
    "import pickle\n",
    "import pandas as pd\n",
    "from sklearn.model_selection import train_test_split"
   ]
  },
  {
   "cell_type": "code",
   "execution_count": 4,
   "metadata": {
    "id": "KPhGh6bwcGdw"
   },
   "outputs": [],
   "source": [
    "\"\"\"\n",
    "this cell splits the data into training test and validation\n",
    "\"\"\"\n",
    "\n",
    "data = pd.read_csv(\"/content/drive/MyDrive/Project AI/data/train.csv\")\n",
    "labels = data.iloc[:,2:]\n",
    "\n",
    "import pickle\n",
    "with open(\"/content/drive/MyDrive/Project AI/project_variables/Xtrain.pickle\",'rb') as file:\n",
    "    comments = pickle.load(file)\n",
    "Xtrain,XTest,Ytrain,YTest = train_test_split(comments,labels,test_size=0.2,random_state=42)\n",
    "Xtest,Xval,Ytest,Yval = train_test_split(XTest,YTest,test_size=0.5,random_state=42)"
   ]
  },
  {
   "cell_type": "code",
   "execution_count": 6,
   "metadata": {
    "colab": {
     "base_uri": "https://localhost:8080/"
    },
    "id": "QUPX9AUZdHgO",
    "outputId": "6f359da1-b751-4f58-c6fb-6f08c3bf204d"
   },
   "outputs": [
    {
     "name": "stdout",
     "output_type": "stream",
     "text": [
      "\n",
      "            In toxic Decision Tree:\n",
      "            actual = 1\n",
      "            predicted = 1\n",
      "            \n"
     ]
    }
   ],
   "source": [
    "np.random.seed(42)\n",
    "DTree_Model = DecisionTreeClassifier()\n",
    "DTree_Model.fit(Xtrain,Ytrain[\"toxic\"])\n",
    "predictions = DTree_Model.predict(Xtrain)\n",
    "print(f\"\"\"\n",
    "            In toxic Decision Tree:\n",
    "            actual = {data[\"toxic\"][1900]}\n",
    "            predicted = {predictions[1900]}\n",
    "            \"\"\")"
   ]
  },
  {
   "cell_type": "code",
   "execution_count": 7,
   "metadata": {
    "id": "l6QnPpZTgh0F"
   },
   "outputs": [],
   "source": [
    "with open(\"/content/drive/MyDrive/Project AI/project_variables/DecistionTree.pickle\",'wb') as file:\n",
    "    pickle.dump(DTree_Model,file)"
   ]
  },
  {
   "cell_type": "code",
   "execution_count": 10,
   "metadata": {
    "colab": {
     "base_uri": "https://localhost:8080/"
    },
    "id": "lR8IEUPlizOO",
    "outputId": "80462d0a-9940-4bce-984b-284e32012a3a"
   },
   "outputs": [
    {
     "data": {
      "text/plain": [
       "0.9415303628501598"
      ]
     },
     "execution_count": 10,
     "metadata": {},
     "output_type": "execute_result"
    }
   ],
   "source": [
    "DTree_Model.score(Xtest,Ytest[\"toxic\"])"
   ]
  },
  {
   "cell_type": "code",
   "execution_count": null,
   "metadata": {
    "id": "OKiu71RafZ5X"
   },
   "outputs": [],
   "source": []
  }
 ],
 "metadata": {
  "accelerator": "GPU",
  "colab": {
   "gpuType": "T4",
   "provenance": []
  },
  "kernelspec": {
   "display_name": "Python 3 (ipykernel)",
   "language": "python",
   "name": "python3"
  },
  "language_info": {
   "codemirror_mode": {
    "name": "ipython",
    "version": 3
   },
   "file_extension": ".py",
   "mimetype": "text/x-python",
   "name": "python",
   "nbconvert_exporter": "python",
   "pygments_lexer": "ipython3",
   "version": "3.9.13"
  }
 },
 "nbformat": 4,
 "nbformat_minor": 4
}
